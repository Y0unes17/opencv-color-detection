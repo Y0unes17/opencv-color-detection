{
 "cells": [
  {
   "cell_type": "code",
   "execution_count": null,
   "metadata": {},
   "outputs": [],
   "source": [
    "import cv2\n",
    "import numpy as np\n",
    "\n",
    "def nothing(x):\n",
    "    pass\n",
    "#h:22\n",
    "#s:54\n",
    "#v:100\n",
    "cap = cv2.VideoCapture(0)\n",
    "cv2.namedWindow(\"Trackbars\")\n",
    "\n",
    "cv2.createTrackbar(\"L – H\", \"Trackbars\", 0, 179, nothing)\n",
    "cv2.createTrackbar(\"L – S\", \"Trackbars\", 0, 255, nothing)\n",
    "cv2.createTrackbar(\"L – V\", \"Trackbars\", 0, 255, nothing)\n",
    "cv2.createTrackbar(\"U – H\", \"Trackbars\", 179, 179, nothing)\n",
    "cv2.createTrackbar(\"U – S\", \"Trackbars\", 255, 255, nothing)\n",
    "cv2.createTrackbar(\"U – V\", \"Trackbars\", 255, 255, nothing)\n",
    "\n",
    "while True:\n",
    "    _, frame = cap.read()\n",
    "    hsv = cv2.cvtColor(frame, cv2.COLOR_BGR2HSV)\n",
    "\n",
    "    l_h = cv2.getTrackbarPos(\"L – H\", \"Trackbars\")\n",
    "    l_s = cv2.getTrackbarPos(\"L – S\", \"Trackbars\")\n",
    "    l_v = cv2.getTrackbarPos(\"L – V\", \"Trackbars\")\n",
    "    u_h = cv2.getTrackbarPos(\"U – H\", \"Trackbars\")\n",
    "    u_s = cv2.getTrackbarPos(\"U – S\", \"Trackbars\")\n",
    "    u_v = cv2.getTrackbarPos(\"U – V\", \"Trackbars\")\n",
    "    \n",
    "    #lower_blue = np.array([153,255,255])\n",
    "    #upper_blue = np.array([0,255,255])\n",
    "    \n",
    "    lower_blue = np.array([l_h, l_s, l_v])\n",
    "    upper_blue = np.array([u_h, u_s, u_v])\n",
    "    mask = cv2.inRange(hsv, lower_blue, upper_blue)\n",
    "    \n",
    "    _, contours, _ = cv2.findContours(mask, cv2.RETR_TREE, cv2.CHAIN_APPROX_SIMPLE)\n",
    "    contours = sorted(contours, key=lambda x:cv2.contourArea(x), reverse=True)\n",
    "    for cnt in contours:\n",
    "        (x, y, w, h) = cv2.boundingRect(cnt)\n",
    "        cv2.rectangle(frame, (x,y), (x+w, y+h),(0, 255, 0), 2)\n",
    "    #   x_medium = int((x + x + w) / 2)\n",
    "        break\n",
    "    \n",
    "    result = cv2.bitwise_and(frame, frame, mask=mask)\n",
    "\n",
    "    cv2.imshow(\"frame\", frame)\n",
    "    cv2.imshow(\"mask\", mask)\n",
    "    #cv2.imshow(\"result\", result)\n",
    "\n",
    "    key = cv2.waitKey(1)\n",
    "    if key == 27:\n",
    "        break\n",
    "\n",
    "cap.release()\n",
    "cv2.destroyAllWindows()"
   ]
  },
  {
   "cell_type": "code",
   "execution_count": null,
   "metadata": {},
   "outputs": [],
   "source": []
  }
 ],
 "metadata": {
  "kernelspec": {
   "display_name": "Python 3",
   "language": "python",
   "name": "python3"
  },
  "language_info": {
   "codemirror_mode": {
    "name": "ipython",
    "version": 3
   },
   "file_extension": ".py",
   "mimetype": "text/x-python",
   "name": "python",
   "nbconvert_exporter": "python",
   "pygments_lexer": "ipython3",
   "version": "3.7.1"
  }
 },
 "nbformat": 4,
 "nbformat_minor": 2
}
